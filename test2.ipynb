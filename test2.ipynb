{
 "cells": [
  {
   "cell_type": "code",
   "execution_count": 1,
   "metadata": {},
   "outputs": [],
   "source": [
    "import tensorflow as tf\n",
    "from tensorflow import keras\n",
    "from tensorflow.keras import backend as K\n",
    "from tensorflow.keras import utils\n",
    "\n",
    "import numpy as np\n",
    "\n",
    "from sklearn.model_selection import train_test_split"
   ]
  },
  {
   "cell_type": "code",
   "execution_count": 2,
   "metadata": {},
   "outputs": [],
   "source": [
    "num_classes = 10\n",
    "img_rows, img_cols = 28, 28"
   ]
  },
  {
   "cell_type": "code",
   "execution_count": 3,
   "metadata": {},
   "outputs": [],
   "source": [
    "mnist = keras.datasets.mnist\n",
    "(x_train, y_train),(x_test, y_test) = mnist.load_data()"
   ]
  },
  {
   "cell_type": "code",
   "execution_count": 4,
   "metadata": {},
   "outputs": [],
   "source": [
    "x_train = x_train.reshape(x_train.shape[0], img_rows, img_cols, 1)\n",
    "x_test = x_test.reshape(x_test.shape[0], img_rows, img_cols, 1)\n",
    "x_train = x_train.astype('float32')\n",
    "x_test = x_test.astype('float32')\n",
    "x_train /= 255\n",
    "x_test /= 255\n",
    "y_train = utils.to_categorical(y_train, num_classes)\n",
    "y_test = utils.to_categorical(y_test, num_classes)"
   ]
  },
  {
   "cell_type": "code",
   "execution_count": 5,
   "metadata": {},
   "outputs": [],
   "source": [
    "def squash(x, axis=-1):\n",
    "    squared_norm = keras.backend.sum(keras.backend.square(x), axis, keepdims=True) + keras.backend.epsilon()\n",
    "    scale = keras.backend.sqrt(squared_norm)/(1+squared_norm)\n",
    "    return scale*x"
   ]
  },
  {
   "cell_type": "code",
   "execution_count": 6,
   "metadata": {},
   "outputs": [],
   "source": [
    "class digitCaps(keras.layers.Layer):\n",
    "    def __init__(self,in_type=1152, in_shape=8, out_type=10, out_shape=16, routings=3, activation='squash',**kwargs):\n",
    "        self.in_type = in_type\n",
    "        self.in_shape = in_shape       \n",
    "        self.out_type = out_type\n",
    "        self.out_shape = out_shape\n",
    "        self.routings = routings\n",
    "        if activation == 'squash':\n",
    "            self.activation = squash\n",
    "        else:\n",
    "            self.activation = keras.layers.Activation(activation)\n",
    "        super(digitCaps,self).__init__(**kwargs)\n",
    "        \n",
    "    def build(self,input_shape):\n",
    "        self.kernel1 = self.add_weight(shape=(self.in_type,self.in_shape,self.out_shape),initializer=\"uniform\", trainable=True)\n",
    "        self.kernel2 = self.add_weight(shape=(self.in_type,self.in_shape,self.out_shape),initializer=\"uniform\", trainable=True)\n",
    "        self.kernel3 = self.add_weight(shape=(self.in_type,self.in_shape,self.out_shape),initializer=\"uniform\", trainable=True)\n",
    "        self.kernel4 = self.add_weight(shape=(self.in_type,self.in_shape,self.out_shape),initializer=\"uniform\", trainable=True)\n",
    "        self.kernel5 = self.add_weight(shape=(self.in_type,self.in_shape,self.out_shape),initializer=\"uniform\", trainable=True)\n",
    "        self.kernel6 = self.add_weight(shape=(self.in_type,self.in_shape,self.out_shape),initializer=\"uniform\", trainable=True)\n",
    "        self.kernel7 = self.add_weight(shape=(self.in_type,self.in_shape,self.out_shape),initializer=\"uniform\", trainable=True)\n",
    "        self.kernel8 = self.add_weight(shape=(self.in_type,self.in_shape,self.out_shape),initializer=\"uniform\", trainable=True)\n",
    "        self.kernel9 = self.add_weight(shape=(self.in_type,self.in_shape,self.out_shape),initializer=\"uniform\", trainable=True)\n",
    "        self.kernel10 = self.add_weight(shape=(self.in_type,self.in_shape,self.out_shape),initializer=\"uniform\", trainable=True)\n",
    "        super(digitCaps,self).build(input_shape)\n",
    "\n",
    "    def call(self,inputs):\n",
    "        type1 = tf.squeeze(tf.matmul(inputs, self.kernel1),axis=2)\n",
    "        type2 = tf.squeeze(tf.matmul(inputs, self.kernel2),axis=2)\n",
    "        type3 = tf.squeeze(tf.matmul(inputs, self.kernel3),axis=2)\n",
    "        type4 = tf.squeeze(tf.matmul(inputs, self.kernel4),axis=2)\n",
    "        type5 = tf.squeeze(tf.matmul(inputs, self.kernel5),axis=2)\n",
    "        type6 = tf.squeeze(tf.matmul(inputs, self.kernel6),axis=2)\n",
    "        type7 = tf.squeeze(tf.matmul(inputs, self.kernel7),axis=2)\n",
    "        type8 = tf.squeeze(tf.matmul(inputs, self.kernel8),axis=2)\n",
    "        type9 = tf.squeeze(tf.matmul(inputs, self.kernel9),axis=2)\n",
    "        type10 = tf.squeeze(tf.matmul(inputs, self.kernel10),axis=2)\n",
    "        result = tf.stack([type1,type2,type3,type4,type5,type6,type7,type8,type9,type10],1)\n",
    "        B = tf.zeros_like(tf.transpose(tf.transpose(result)[1]))\n",
    "        for i in range(self.routings):\n",
    "            C = tf.nn.softmax(B,1)\n",
    "            O = tf.einsum('ijk,ijkl->ijl', C, result)\n",
    "            V = squash(O,-1)\n",
    "            B = B + tf.einsum('ijk,ijlk->ijl', V, result)\n",
    "        return V"
   ]
  },
  {
   "cell_type": "code",
   "execution_count": 7,
   "metadata": {},
   "outputs": [],
   "source": [
    "class selfCaps(keras.layers.Layer):\n",
    "    def __init__(self,in_type=1152, in_shape=8, out_type=10, out_shape=16, activation='squash',**kwargs):\n",
    "        self.in_type = in_type\n",
    "        self.in_shape = in_shape       \n",
    "        self.out_type = out_type\n",
    "        self.out_shape = out_shape\n",
    "        if activation == 'squash':\n",
    "            self.activation = squash\n",
    "        else:\n",
    "            self.activation = keras.layers.Activation(activation)\n",
    "        super(selfCaps,self).__init__(**kwargs)\n",
    "        \n",
    "    def build(self,input_shape):\n",
    "        self.kernel1 = self.add_weight(shape=(self.in_type,self.in_shape,self.out_shape),initializer=\"uniform\", trainable=True)\n",
    "        self.kernel2 = self.add_weight(shape=(self.in_type,self.in_shape,self.out_shape),initializer=\"uniform\", trainable=True)\n",
    "        self.kernel3 = self.add_weight(shape=(self.in_type,self.in_shape,self.out_shape),initializer=\"uniform\", trainable=True)\n",
    "        self.kernel4 = self.add_weight(shape=(self.in_type,self.in_shape,self.out_shape),initializer=\"uniform\", trainable=True)\n",
    "        self.kernel5 = self.add_weight(shape=(self.in_type,self.in_shape,self.out_shape),initializer=\"uniform\", trainable=True)\n",
    "        self.kernel6 = self.add_weight(shape=(self.in_type,self.in_shape,self.out_shape),initializer=\"uniform\", trainable=True)\n",
    "        self.kernel7 = self.add_weight(shape=(self.in_type,self.in_shape,self.out_shape),initializer=\"uniform\", trainable=True)\n",
    "        self.kernel8 = self.add_weight(shape=(self.in_type,self.in_shape,self.out_shape),initializer=\"uniform\", trainable=True)\n",
    "        self.kernel9 = self.add_weight(shape=(self.in_type,self.in_shape,self.out_shape),initializer=\"uniform\", trainable=True)\n",
    "        self.kernel10 = self.add_weight(shape=(self.in_type,self.in_shape,self.out_shape),initializer=\"uniform\", trainable=True)\n",
    "        self.O = self.add_weight(shape=(self.out_type,self.out_shape,self.out_shape),initializer=\"ones\", trainable=True)\n",
    "        super(selfCaps,self).build(input_shape)\n",
    "\n",
    "    def call(self,inputs):\n",
    "        type1 = tf.squeeze(tf.matmul(inputs, self.kernel1),axis=2)\n",
    "        type2 = tf.squeeze(tf.matmul(inputs, self.kernel2),axis=2)\n",
    "        type3 = tf.squeeze(tf.matmul(inputs, self.kernel3),axis=2)\n",
    "        type4 = tf.squeeze(tf.matmul(inputs, self.kernel4),axis=2)\n",
    "        type5 = tf.squeeze(tf.matmul(inputs, self.kernel5),axis=2)\n",
    "        type6 = tf.squeeze(tf.matmul(inputs, self.kernel6),axis=2)\n",
    "        type7 = tf.squeeze(tf.matmul(inputs, self.kernel7),axis=2)\n",
    "        type8 = tf.squeeze(tf.matmul(inputs, self.kernel8),axis=2)\n",
    "        type9 = tf.squeeze(tf.matmul(inputs, self.kernel9),axis=2)\n",
    "        type10 = tf.squeeze(tf.matmul(inputs, self.kernel10),axis=2)\n",
    "        result = tf.stack([type1,type2,type3,type4,type5,type6,type7,type8,type9,type10],1)\n",
    "        V = tf.reduce_sum(result, axis=2, keepdims=True)\n",
    "        V = squash(V,-1)\n",
    "        V = tf.squeeze(tf.matmul(V, self.O),axis=2)\n",
    "        return V"
   ]
  },
  {
   "cell_type": "code",
   "execution_count": 8,
   "metadata": {},
   "outputs": [],
   "source": [
    "output = keras.layers.Lambda(lambda x: keras.backend.sqrt(keras.backend.sum(keras.backend.square(x), 2)), output_shape=(10,))"
   ]
  },
  {
   "cell_type": "code",
   "execution_count": 9,
   "metadata": {},
   "outputs": [],
   "source": [
    "class mask(keras.layers.Layer):\n",
    "    def __init__(self, **kwargs):\n",
    "        super(mask,self).__init__(**kwargs)\n",
    "        \n",
    "    def build(self,input_shape):\n",
    "        super(mask,self).build(input_shape)\n",
    "\n",
    "    def call(self,inputs):\n",
    "        info = keras.backend.sqrt(keras.backend.sum(keras.backend.square(inputs), 2))\n",
    "        inf = tf.argmax(info,axis=1)[1]\n",
    "        out = inputs[:,inf,:]\n",
    "        return out"
   ]
  },
  {
   "cell_type": "code",
   "execution_count": null,
   "metadata": {},
   "outputs": [],
   "source": [
    "inputs = tf.keras.layers.Input(shape=(28,28,1))\n",
    "C1 = keras.layers.Conv2D(filters=256, kernel_size=(9,9), strides=(1,1), activation=\"relu\")(inputs)\n",
    "C2 = keras.layers.Conv2D(filters=256, kernel_size=(9,9), strides=(2,2), activation=\"relu\")(C1)\n",
    "R1 = keras.layers.Reshape(target_shape=(1152,1,8))(C2)\n",
    "P1 = digitCaps(in_type=1152, in_shape=8, out_type=10, out_shape=16)(R1)\n",
    "out_caps = keras.layers.Lambda(lambda x: keras.backend.sqrt(keras.backend.sum(keras.backend.square(x), 2)), output_shape=(10,))(P1)\n",
    "Mask = mask()(P1)\n",
    "dense1 = keras.layers.Dense(512,activation=\"relu\")(Mask)\n",
    "dense2 = keras.layers.Dense(1024)(dense1)\n",
    "dense3 = keras.layers.Dense(784)(dense2)\n",
    "out = keras.layers.Reshape(target_shape=(28,28,1))(dense3)\n",
    "model1 =  tf.keras.models.Model(inputs=inputs, outputs = [out_caps, out])\n",
    "model1.summary()\n",
    "model1.compile(optimizer=tf.keras.optimizers.Adam(0.0001),\n",
    "            loss=[lambda y_true,y_pred:K.mean(K.sum(y_true * K.square(K.maximum(0., 0.9 - y_pred)) + 0.5 * (1 - y_true) * K.square(K.maximum(0., y_pred - 0.1)),1)), 'mse'],\n",
    "            metrics=['accuracy','mse'])"
   ]
  },
  {
   "cell_type": "code",
   "execution_count": null,
   "metadata": {},
   "outputs": [],
   "source": [
    "inputs = tf.keras.layers.Input(shape=(28,28,1))\n",
    "C1 = keras.layers.Conv2D(filters=256, kernel_size=(9,9), strides=(1,1), activation=\"relu\")(inputs)\n",
    "C2 = keras.layers.Conv2D(filters=256, kernel_size=(9,9), strides=(2,2), activation=\"relu\")(C1)\n",
    "R1 = keras.layers.Reshape(target_shape=(1152,1,8))(C2)\n",
    "P1 = digitCaps(in_type=1152, in_shape=8, out_type=10, out_shape=16)(R1)\n",
    "out_caps = keras.layers.Lambda(lambda x: keras.backend.sqrt(keras.backend.sum(keras.backend.square(x), 2)), output_shape=(10,))(P1)\n",
    "Mask = mask()(P1)\n",
    "K1 = keras.layers.Dense(1152,activation=\"relu\")(Mask)\n",
    "K2 = keras.layers.Reshape(target_shape=(6,6,32))(K1)\n",
    "K3 = keras.layers.Conv2DTranspose(64,(9,9),(2,2))(K2)\n",
    "K4 = keras.layers.Conv2DTranspose(1,(10,10))(K3)\n",
    "model2 =  tf.keras.models.Model(inputs=inputs, outputs = [out_caps, K4])\n",
    "model2.summary()\n",
    "model2.compile(optimizer=tf.keras.optimizers.Adam(0.0001),\n",
    "            loss=[lambda y_true,y_pred:K.mean(K.sum(y_true * K.square(K.maximum(0., 0.9 - y_pred)) + 0.5 * (1 - y_true) * K.square(K.maximum(0., y_pred - 0.1)),1)), 'mse'],\n",
    "            metrics=['accuracy','mse'])"
   ]
  },
  {
   "cell_type": "code",
   "execution_count": null,
   "metadata": {},
   "outputs": [],
   "source": [
    "inputs = tf.keras.layers.Input(shape=(28,28,1))\n",
    "C1 = keras.layers.Conv2D(filters=256, kernel_size=(9,9), strides=(1,1), activation=\"relu\")(inputs)\n",
    "C2 = keras.layers.Conv2D(filters=256, kernel_size=(9,9), strides=(2,2), activation=\"relu\")(C1)\n",
    "R1 = keras.layers.Reshape(target_shape=(1152,1,8))(C2)\n",
    "P1 = selfCaps(in_type=1152, in_shape=8, out_type=10, out_shape=16)(R1)\n",
    "out_caps = keras.layers.Lambda(lambda x: keras.backend.sqrt(keras.backend.sum(keras.backend.square(x), 2)), output_shape=(10,))(P1)\n",
    "Mask = mask()(P1)\n",
    "dense1 = keras.layers.Dense(512)(Mask)\n",
    "dense2 = keras.layers.Dense(1024)(dense1)\n",
    "dense3 = keras.layers.Dense(784)(dense2)\n",
    "out = keras.layers.Reshape(target_shape=(28,28,1))(dense3)\n",
    "model3 =  tf.keras.models.Model(inputs=inputs, outputs = [out_caps, out])\n",
    "model3.summary()\n",
    "model3.compile(optimizer=tf.keras.optimizers.Adam(0.0001),\n",
    "            loss=[lambda y_true,y_pred:K.mean(K.sum(y_true * K.square(K.maximum(0., 0.9 - y_pred)) + 0.5 * (1 - y_true) * K.square(K.maximum(0., y_pred - 0.1)),1)), 'mse'],\n",
    "            metrics=['accuracy','mse'])"
   ]
  },
  {
   "cell_type": "code",
   "execution_count": null,
   "metadata": {},
   "outputs": [],
   "source": [
    "inputs = tf.keras.layers.Input(shape=(28,28,1))\n",
    "C1 = keras.layers.Conv2D(filters=256, kernel_size=(9,9), strides=(1,1), activation=\"relu\")(inputs)\n",
    "C2 = keras.layers.Conv2D(filters=256, kernel_size=(9,9), strides=(2,2), activation=\"relu\")(C1)\n",
    "R1 = keras.layers.Reshape(target_shape=(1152,1,8))(C2)\n",
    "P1 = selfCaps(in_type=1152, in_shape=8, out_type=10, out_shape=16)(R1)\n",
    "out_caps = keras.layers.Lambda(lambda x: keras.backend.sqrt(keras.backend.sum(keras.backend.square(x), 2)), output_shape=(10,))(P1)\n",
    "Mask = mask()(P1)\n",
    "K1 = keras.layers.Dense(1152,activation=\"relu\")(Mask)\n",
    "K2 = keras.layers.Reshape(target_shape=(6,6,32))(K1)\n",
    "K3 = keras.layers.Conv2DTranspose(64,(9,9),(2,2))(K2)\n",
    "K4 = keras.layers.Conv2DTranspose(1,(10,10))(K3)\n",
    "model4 =  tf.keras.models.Model(inputs=inputs, outputs = [out_caps, K4])\n",
    "model4.summary()\n",
    "model4.compile(optimizer=tf.keras.optimizers.Adam(0.0001),\n",
    "            loss=[lambda y_true,y_pred:K.mean(K.sum(y_true * K.square(K.maximum(0., 0.9 - y_pred)) + 0.5 * (1 - y_true) * K.square(K.maximum(0., y_pred - 0.1)),1)), 'mse'],\n",
    "            metrics=['accuracy','mse'])"
   ]
  },
  {
   "cell_type": "code",
   "execution_count": null,
   "metadata": {},
   "outputs": [],
   "source": [
    "x_val = x_train[:12000]\n",
    "y_val = y_train[:12000]\n",
    "x_train = x_train[12000:]\n",
    "y_train = y_train[12000:]"
   ]
  },
  {
   "cell_type": "code",
   "execution_count": null,
   "metadata": {},
   "outputs": [],
   "source": [
    "hismodel1 = model1.fit(x_train,[y_train,x_train],epochs=20,batch_size=128,validation_data=[x_val, [y_val,x_val]])"
   ]
  },
  {
   "cell_type": "code",
   "execution_count": null,
   "metadata": {},
   "outputs": [],
   "source": [
    "hismodel2 = model2.fit(x_train,[y_train,x_train],epochs=20,batch_size=128,validation_data=[x_val, [y_val,x_val]])"
   ]
  },
  {
   "cell_type": "code",
   "execution_count": null,
   "metadata": {},
   "outputs": [],
   "source": [
    "hismodel3 = model3.fit(x_train,[y_train,x_train],epochs=20,batch_size=128,validation_data=[x_val, [y_val,x_val]])"
   ]
  },
  {
   "cell_type": "code",
   "execution_count": null,
   "metadata": {},
   "outputs": [],
   "source": [
    "hismodel4 = model4.fit(x_train,[y_train,x_train],epochs=20,batch_size=128,validation_data=[x_val, [y_val,x_val]])"
   ]
  },
  {
   "cell_type": "code",
   "execution_count": null,
   "metadata": {},
   "outputs": [],
   "source": [
    "import matplotlib.pyplot as plt\n",
    "loss = hismodel1.history['loss']\n",
    "val_loss =hismodel1.history['val_loss']\n",
    "epochs = range(1, len(loss) + 1)\n",
    "plt.plot(epochs, loss, 'bo', label='Training loss')\n",
    "plt.plot(epochs, val_loss, 'b', label='Validation loss')\n",
    "plt.title('Training and validation loss')\n",
    "plt.xlabel('Epochs')\n",
    "plt.ylabel('Loss')\n",
    "plt.legend()\n",
    "plt.savefig(\"result1.png\")"
   ]
  },
  {
   "cell_type": "code",
   "execution_count": null,
   "metadata": {},
   "outputs": [],
   "source": [
    "acc = hismodel1.history['lambda_1_accuracy']\n",
    "val_acc = hismodel1.history['val_lambda_1_accuracy']\n",
    "plt.plot(epochs, acc, 'bo', label='Training acc')\n",
    "plt.plot(epochs, val_acc, 'b', label='Validation acc')\n",
    "plt.title('Training and validation accuracy')\n",
    "plt.xlabel('Epochs')\n",
    "plt.ylabel('Accuracy')\n",
    "plt.legend()\n",
    "plt.savefig(\"resultq1.png\")"
   ]
  },
  {
   "cell_type": "code",
   "execution_count": null,
   "metadata": {
    "scrolled": true
   },
   "outputs": [],
   "source": [
    "import matplotlib.pyplot as plt\n",
    "loss = hismodel2.history['loss']\n",
    "val_loss =hismodel2.history['val_loss']\n",
    "epochs = range(1, len(loss) + 1)\n",
    "plt.plot(epochs, loss, 'bo', label='Training loss')\n",
    "plt.plot(epochs, val_loss, 'b', label='Validation loss')\n",
    "plt.title('Training and validation loss')\n",
    "plt.xlabel('Epochs')\n",
    "plt.ylabel('Loss')\n",
    "plt.legend()\n",
    "plt.savefig(\"result2.png\")"
   ]
  },
  {
   "cell_type": "code",
   "execution_count": null,
   "metadata": {},
   "outputs": [],
   "source": [
    "acc = hismodel2.history['lambda_2_accuracy']\n",
    "val_acc = hismodel2.history['val_lambda_2_accuracy']\n",
    "plt.plot(epochs, acc, 'bo', label='Training acc')\n",
    "plt.plot(epochs, val_acc, 'b', label='Validation acc')\n",
    "plt.title('Training and validation accuracy')\n",
    "plt.xlabel('Epochs')\n",
    "plt.ylabel('Accuracy')\n",
    "plt.legend()\n",
    "plt.savefig(\"resultq2.png\")"
   ]
  },
  {
   "cell_type": "code",
   "execution_count": null,
   "metadata": {},
   "outputs": [],
   "source": [
    "import matplotlib.pyplot as plt\n",
    "loss = hismodel3.history['loss']\n",
    "val_loss =hismodel3.history['val_loss']\n",
    "epochs = range(1, len(loss) + 1)\n",
    "plt.plot(epochs, loss, 'bo', label='Training loss')\n",
    "plt.plot(epochs, val_loss, 'b', label='Validation loss')\n",
    "plt.title('Training and validation loss')\n",
    "plt.xlabel('Epochs')\n",
    "plt.ylabel('Loss')\n",
    "plt.legend()\n",
    "plt.savefig(\"result3.png\")"
   ]
  },
  {
   "cell_type": "code",
   "execution_count": null,
   "metadata": {},
   "outputs": [],
   "source": [
    "acc = hismodel3.history['lambda_3_accuracy']\n",
    "val_acc = hismodel3.history['val_lambda_3_accuracy']\n",
    "plt.plot(epochs, acc, 'bo', label='Training acc')\n",
    "plt.plot(epochs, val_acc, 'b', label='Validation acc')\n",
    "plt.title('Training and validation accuracy')\n",
    "plt.xlabel('Epochs')\n",
    "plt.ylabel('Accuracy')\n",
    "plt.legend()\n",
    "plt.savefig(\"resultq3.png\")"
   ]
  },
  {
   "cell_type": "code",
   "execution_count": null,
   "metadata": {},
   "outputs": [],
   "source": [
    "import matplotlib.pyplot as plt\n",
    "loss = hismodel4.history['loss']\n",
    "val_loss =hismodel4.history['val_loss']\n",
    "epochs = range(1, len(loss) + 1)\n",
    "plt.plot(epochs, loss, 'bo', label='Training loss')\n",
    "plt.plot(epochs, val_loss, 'b', label='Validation loss')\n",
    "plt.title('Training and validation loss')\n",
    "plt.xlabel('Epochs')\n",
    "plt.ylabel('Loss')\n",
    "plt.legend()\n",
    "plt.savefig(\"result4.png\")"
   ]
  },
  {
   "cell_type": "code",
   "execution_count": null,
   "metadata": {},
   "outputs": [],
   "source": [
    "acc = hismodel4.history['lambda_4_accuracy']\n",
    "val_acc = hismodel4.history['val_lambda_4_accuracy']\n",
    "plt.plot(epochs, acc, 'bo', label='Training acc')\n",
    "plt.plot(epochs, val_acc, 'b', label='Validation acc')\n",
    "plt.title('Training and validation accuracy')\n",
    "plt.xlabel('Epochs')\n",
    "plt.ylabel('Accuracy')\n",
    "plt.legend()\n",
    "plt.savefig(\"resultq4.png\")"
   ]
  },
  {
   "cell_type": "code",
   "execution_count": null,
   "metadata": {},
   "outputs": [],
   "source": [
    "\n"
   ]
  },
  {
   "cell_type": "code",
   "execution_count": null,
   "metadata": {},
   "outputs": [],
   "source": []
  },
  {
   "cell_type": "code",
   "execution_count": null,
   "metadata": {},
   "outputs": [],
   "source": []
  },
  {
   "cell_type": "code",
   "execution_count": null,
   "metadata": {},
   "outputs": [],
   "source": [
    "inputs = tf.keras.layers.Input(shape=(28,28,1))\n",
    "C1 = keras.layers.Conv2D(filters=256, kernel_size=(9,9), strides=(1,1), activation=\"relu\")(inputs)\n",
    "C2 = keras.layers.Conv2D(filters=256, kernel_size=(9,9), strides=(2,2), activation=\"relu\")(C1)\n",
    "R1 = keras.layers.Reshape(target_shape=(1152,1,8))(C2)\n",
    "P1 = digitCaps(in_type=1152, in_shape=8, out_type=10, out_shape=16)(R1)\n",
    "out_caps = keras.layers.Lambda(lambda x: keras.backend.sqrt(keras.backend.sum(keras.backend.square(x), 2)), output_shape=(10,))(P1)\n",
    "Mask = mask()(P1)\n",
    "dense1 = keras.layers.Dense(512,activation=\"relu\")(Mask)\n",
    "dense2 = keras.layers.Dense(1024)(dense1)\n",
    "dense3 = keras.layers.Dense(784)(dense2)\n",
    "out = keras.layers.Reshape(target_shape=(28,28,1))(dense3)\n",
    "model5 =  tf.keras.models.Model(inputs=inputs, outputs = [out_caps, out])\n",
    "model5.summary()\n",
    "model5.compile(optimizer=tf.keras.optimizers.Adam(0.0001),\n",
    "            loss=[lambda y_true,y_pred:K.mean(K.sum(y_true * K.square(K.maximum(0., 0.9 - y_pred)) + 0.5 * (1 - y_true) * K.square(K.maximum(0., y_pred - 0.1)),1)), 'mse'],\n",
    "            metrics=['accuracy','mse'])"
   ]
  },
  {
   "cell_type": "code",
   "execution_count": null,
   "metadata": {},
   "outputs": [],
   "source": [
    "inputs = tf.keras.layers.Input(shape=(28,28,1))\n",
    "C1 = keras.layers.Conv2D(filters=256, kernel_size=(9,9), strides=(1,1), activation=\"relu\")(inputs)\n",
    "C2 = keras.layers.Conv2D(filters=256, kernel_size=(9,9), strides=(2,2), activation=\"relu\")(C1)\n",
    "R1 = keras.layers.Reshape(target_shape=(1152,1,8))(C2)\n",
    "P1 = digitCaps(in_type=1152, in_shape=8, out_type=10, out_shape=16)(R1)\n",
    "out_caps = keras.layers.Lambda(lambda x: keras.backend.sqrt(keras.backend.sum(keras.backend.square(x), 2)), output_shape=(10,))(P1)\n",
    "Mask = mask()(P1)\n",
    "K1 = keras.layers.Dense(1152,activation=\"relu\")(Mask)\n",
    "K2 = keras.layers.Reshape(target_shape=(6,6,32))(K1)\n",
    "K3 = keras.layers.Conv2DTranspose(64,(9,9),(2,2))(K2)\n",
    "K4 = keras.layers.Conv2DTranspose(1,(10,10))(K3)\n",
    "model6 =  tf.keras.models.Model(inputs=inputs, outputs = [out_caps, K4])\n",
    "model6.summary()\n",
    "model6.compile(optimizer=tf.keras.optimizers.Adam(0.0001),\n",
    "            loss=[lambda y_true,y_pred:K.mean(K.sum(y_true * K.square(K.maximum(0., 0.9 - y_pred)) + 0.5 * (1 - y_true) * K.square(K.maximum(0., y_pred - 0.1)),1)), 'mse'],\n",
    "            metrics=['accuracy','mse'])"
   ]
  },
  {
   "cell_type": "code",
   "execution_count": null,
   "metadata": {
    "scrolled": true
   },
   "outputs": [],
   "source": [
    "inputs = tf.keras.layers.Input(shape=(28,28,1))\n",
    "C1 = keras.layers.Conv2D(filters=256, kernel_size=(9,9), strides=(1,1), activation=\"relu\")(inputs)\n",
    "C2 = keras.layers.Conv2D(filters=256, kernel_size=(9,9), strides=(2,2), activation=\"relu\")(C1)\n",
    "R1 = keras.layers.Reshape(target_shape=(1152,1,8))(C2)\n",
    "P1 = selfCaps(in_type=1152, in_shape=8, out_type=10, out_shape=16)(R1)\n",
    "out_caps = keras.layers.Lambda(lambda x: keras.backend.sqrt(keras.backend.sum(keras.backend.square(x), 2)), output_shape=(10,))(P1)\n",
    "Mask = mask()(P1)\n",
    "dense1 = keras.layers.Dense(512)(Mask)\n",
    "dense2 = keras.layers.Dense(1024)(dense1)\n",
    "dense3 = keras.layers.Dense(784)(dense2)\n",
    "out = keras.layers.Reshape(target_shape=(28,28,1))(dense3)\n",
    "model7 =  tf.keras.models.Model(inputs=inputs, outputs = [out_caps, out])\n",
    "model7.summary()\n",
    "model7.compile(optimizer=tf.keras.optimizers.Adam(0.0001),\n",
    "            loss=[lambda y_true,y_pred:K.mean(K.sum(y_true * K.square(K.maximum(0., 0.9 - y_pred)) + 0.5 * (1 - y_true) * K.square(K.maximum(0., y_pred - 0.1)),1)), 'mse'],\n",
    "            metrics=['accuracy','mse'])"
   ]
  },
  {
   "cell_type": "code",
   "execution_count": null,
   "metadata": {},
   "outputs": [],
   "source": [
    "inputs = tf.keras.layers.Input(shape=(28,28,1))\n",
    "C1 = keras.layers.Conv2D(filters=256, kernel_size=(9,9), strides=(1,1), activation=\"relu\")(inputs)\n",
    "C2 = keras.layers.Conv2D(filters=256, kernel_size=(9,9), strides=(2,2), activation=\"relu\")(C1)\n",
    "R1 = keras.layers.Reshape(target_shape=(1152,1,8))(C2)\n",
    "P1 = selfCaps(in_type=1152, in_shape=8, out_type=10, out_shape=16)(R1)\n",
    "out_caps = keras.layers.Lambda(lambda x: keras.backend.sqrt(keras.backend.sum(keras.backend.square(x), 2)), output_shape=(10,))(P1)\n",
    "Mask = mask()(P1)\n",
    "K1 = keras.layers.Dense(1152,activation=\"relu\")(Mask)\n",
    "K2 = keras.layers.Reshape(target_shape=(6,6,32))(K1)\n",
    "K3 = keras.layers.Conv2DTranspose(64,(9,9),(2,2))(K2)\n",
    "K4 = keras.layers.Conv2DTranspose(1,(10,10))(K3)\n",
    "model8 =  tf.keras.models.Model(inputs=inputs, outputs = [out_caps, K4])\n",
    "model8.summary()\n",
    "model8.compile(optimizer=tf.keras.optimizers.Adam(0.0001),\n",
    "            loss=[lambda y_true,y_pred:K.mean(K.sum(y_true * K.square(K.maximum(0., 0.9 - y_pred)) + 0.5 * (1 - y_true) * K.square(K.maximum(0., y_pred - 0.1)),1)), 'mse'],\n",
    "            metrics=['accuracy','mse'])"
   ]
  },
  {
   "cell_type": "code",
   "execution_count": null,
   "metadata": {},
   "outputs": [],
   "source": [
    "mnist = keras.datasets.mnist\n",
    "(x_train, y_train),(x_test, y_test) = mnist.load_data()"
   ]
  },
  {
   "cell_type": "code",
   "execution_count": null,
   "metadata": {},
   "outputs": [],
   "source": [
    "x_train = x_train.reshape(x_train.shape[0], img_rows, img_cols, 1)\n",
    "x_test = x_test.reshape(x_test.shape[0], img_rows, img_cols, 1)\n",
    "x_train = x_train.astype('float32')\n",
    "x_test = x_test.astype('float32')\n",
    "x_train /= 255\n",
    "x_test /= 255\n",
    "y_train = utils.to_categorical(y_train, num_classes)\n",
    "y_test = utils.to_categorical(y_test, num_classes)"
   ]
  },
  {
   "cell_type": "code",
   "execution_count": null,
   "metadata": {},
   "outputs": [],
   "source": [
    "hismodel5 = model5.fit(x_train,[y_train,x_train],epochs=4,batch_size=128)"
   ]
  },
  {
   "cell_type": "code",
   "execution_count": null,
   "metadata": {},
   "outputs": [],
   "source": [
    "hismodel6 = model6.fit(x_train,[y_train,x_train],epochs=4,batch_size=128)"
   ]
  },
  {
   "cell_type": "code",
   "execution_count": null,
   "metadata": {},
   "outputs": [],
   "source": [
    "hismodel7 = model7.fit(x_train,[y_train,x_train],epochs=4,batch_size=128)"
   ]
  },
  {
   "cell_type": "code",
   "execution_count": null,
   "metadata": {},
   "outputs": [],
   "source": [
    "hismodel8 = model8.fit(x_train,[y_train,x_train],epochs=4,batch_size=128)"
   ]
  },
  {
   "cell_type": "code",
   "execution_count": null,
   "metadata": {},
   "outputs": [],
   "source": [
    "model5.evaluate(x_test,[y_test,x_test])"
   ]
  },
  {
   "cell_type": "code",
   "execution_count": null,
   "metadata": {},
   "outputs": [],
   "source": [
    "model6.evaluate(x_test,[y_test,x_test])"
   ]
  },
  {
   "cell_type": "code",
   "execution_count": null,
   "metadata": {},
   "outputs": [],
   "source": [
    "model7.evaluate(x_test,[y_test,x_test])"
   ]
  },
  {
   "cell_type": "code",
   "execution_count": null,
   "metadata": {},
   "outputs": [],
   "source": [
    "model8.evaluate(x_test,[y_test,x_test])"
   ]
  },
  {
   "cell_type": "code",
   "execution_count": null,
   "metadata": {},
   "outputs": [],
   "source": [
    "import matplotlib.pyplot as plt\n",
    "\n",
    "x1 = model5.predict(x_test)[1]\n",
    "x2 = model6.predict(x_test)[1]\n",
    "x3 = model7.predict(x_test)[1]\n",
    "x4 = model8.predict(x_test)[1]"
   ]
  },
  {
   "cell_type": "code",
   "execution_count": null,
   "metadata": {
    "scrolled": true
   },
   "outputs": [],
   "source": [
    "num=11\n",
    "y1 = x1[num].reshape(28,28)\n",
    "plt.imshow(y1)"
   ]
  },
  {
   "cell_type": "code",
   "execution_count": null,
   "metadata": {
    "scrolled": true
   },
   "outputs": [],
   "source": [
    "\n",
    "y2 = x2[num].reshape(28,28)\n",
    "plt.imshow(y2)"
   ]
  },
  {
   "cell_type": "code",
   "execution_count": null,
   "metadata": {},
   "outputs": [],
   "source": [
    "\n",
    "y3 = x3[num].reshape(28,28)\n",
    "plt.imshow(y3)"
   ]
  },
  {
   "cell_type": "code",
   "execution_count": null,
   "metadata": {},
   "outputs": [],
   "source": [
    "\n",
    "y4 = x4[num].reshape(28,28)\n",
    "plt.imshow(y4)"
   ]
  },
  {
   "cell_type": "code",
   "execution_count": null,
   "metadata": {},
   "outputs": [],
   "source": [
    "plt.imshow(x_test[num].reshape(28,28))"
   ]
  },
  {
   "cell_type": "code",
   "execution_count": null,
   "metadata": {},
   "outputs": [],
   "source": []
  }
 ],
 "metadata": {
  "kernelspec": {
   "display_name": "Python 3",
   "language": "python",
   "name": "python3"
  },
  "language_info": {
   "codemirror_mode": {
    "name": "ipython",
    "version": 3
   },
   "file_extension": ".py",
   "mimetype": "text/x-python",
   "name": "python",
   "nbconvert_exporter": "python",
   "pygments_lexer": "ipython3",
   "version": "3.7.7"
  }
 },
 "nbformat": 4,
 "nbformat_minor": 4
}
