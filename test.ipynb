{
 "cells": [
  {
   "cell_type": "code",
   "execution_count": 1,
   "metadata": {},
   "outputs": [
    {
     "name": "stderr",
     "output_type": "stream",
     "text": [
      "ERROR:root:Internal Python error in the inspect module.\n",
      "Below is the traceback from this internal error.\n",
      "\n"
     ]
    },
    {
     "name": "stdout",
     "output_type": "stream",
     "text": [
      "Traceback (most recent call last):\n",
      "  File \"c:\\users\\56236\\appdata\\local\\programs\\python\\python37\\lib\\site-packages\\IPython\\core\\interactiveshell.py\", line 3331, in run_code\n",
      "    exec(code_obj, self.user_global_ns, self.user_ns)\n",
      "  File \"<ipython-input-1-aae5309234a6>\", line 1, in <module>\n",
      "    import tensorflow as tf\n",
      "  File \"c:\\users\\56236\\appdata\\local\\programs\\python\\python37\\lib\\site-packages\\tensorflow\\__init__.py\", line 101, in <module>\n",
      "    from tensorflow_core import *\n",
      "  File \"c:\\users\\56236\\appdata\\local\\programs\\python\\python37\\lib\\site-packages\\tensorflow_core\\__init__.py\", line 40, in <module>\n",
      "    from tensorflow.python.tools import module_util as _module_util\n",
      "  File \"<frozen importlib._bootstrap>\", line 983, in _find_and_load\n",
      "  File \"<frozen importlib._bootstrap>\", line 959, in _find_and_load_unlocked\n",
      "  File \"c:\\users\\56236\\appdata\\local\\programs\\python\\python37\\lib\\site-packages\\tensorflow\\__init__.py\", line 50, in __getattr__\n",
      "    module = self._load()\n",
      "  File \"c:\\users\\56236\\appdata\\local\\programs\\python\\python37\\lib\\site-packages\\tensorflow\\__init__.py\", line 44, in _load\n",
      "    module = _importlib.import_module(self.__name__)\n",
      "  File \"c:\\users\\56236\\appdata\\local\\programs\\python\\python37\\lib\\importlib\\__init__.py\", line 127, in import_module\n",
      "    return _bootstrap._gcd_import(name[level:], package, level)\n",
      "  File \"c:\\users\\56236\\appdata\\local\\programs\\python\\python37\\lib\\site-packages\\tensorflow_core\\python\\__init__.py\", line 64, in <module>\n",
      "    from tensorflow.core.framework.graph_pb2 import *\n",
      "  File \"c:\\users\\56236\\appdata\\local\\programs\\python\\python37\\lib\\site-packages\\tensorflow_core\\core\\framework\\graph_pb2.py\", line 7, in <module>\n",
      "    from google.protobuf import descriptor as _descriptor\n",
      "  File \"c:\\users\\56236\\appdata\\local\\programs\\python\\python37\\lib\\site-packages\\google\\protobuf\\__init__.py\", line 37, in <module>\n",
      "    __import__('pkg_resources').declare_namespace(__name__)\n",
      "  File \"c:\\users\\56236\\appdata\\local\\programs\\python\\python37\\lib\\site-packages\\pkg_resources\\__init__.py\", line 84, in <module>\n",
      "    __import__('pkg_resources.extern.packaging.requirements')\n",
      "  File \"c:\\users\\56236\\appdata\\local\\programs\\python\\python37\\lib\\site-packages\\pkg_resources\\_vendor\\packaging\\requirements.py\", line 9, in <module>\n",
      "    from pkg_resources.extern.pyparsing import stringStart, stringEnd, originalTextFor, ParseException\n",
      "  File \"<frozen importlib._bootstrap>\", line 983, in _find_and_load\n",
      "  File \"<frozen importlib._bootstrap>\", line 967, in _find_and_load_unlocked\n",
      "  File \"<frozen importlib._bootstrap>\", line 668, in _load_unlocked\n",
      "  File \"<frozen importlib._bootstrap>\", line 638, in _load_backward_compatible\n",
      "  File \"c:\\users\\56236\\appdata\\local\\programs\\python\\python37\\lib\\site-packages\\pkg_resources\\extern\\__init__.py\", line 43, in load_module\n",
      "    __import__(extant)\n",
      "  File \"c:\\users\\56236\\appdata\\local\\programs\\python\\python37\\lib\\site-packages\\pkg_resources\\_vendor\\pyparsing.py\", line 4756, in <module>\n",
      "    _escapedPunc = Word( _bslash, r\"\\[]-*.$+^?()~ \", exact=2 ).setParseAction(lambda s,l,t:t[0][1])\n",
      "  File \"c:\\users\\56236\\appdata\\local\\programs\\python\\python37\\lib\\site-packages\\pkg_resources\\_vendor\\pyparsing.py\", line 1284, in setParseAction\n",
      "    self.parseAction = list(map(_trim_arity, list(fns)))\n",
      "  File \"c:\\users\\56236\\appdata\\local\\programs\\python\\python37\\lib\\site-packages\\pkg_resources\\_vendor\\pyparsing.py\", line 1066, in _trim_arity\n",
      "    this_line = extract_stack(limit=2)[-1]\n",
      "  File \"c:\\users\\56236\\appdata\\local\\programs\\python\\python37\\lib\\site-packages\\pkg_resources\\_vendor\\pyparsing.py\", line 1050, in extract_stack\n",
      "    frame_summary = traceback.extract_stack(limit=-offset+limit-1)[offset]\n",
      "  File \"c:\\users\\56236\\appdata\\local\\programs\\python\\python37\\lib\\traceback.py\", line 211, in extract_stack\n",
      "    stack = StackSummary.extract(walk_stack(f), limit=limit)\n",
      "  File \"c:\\users\\56236\\appdata\\local\\programs\\python\\python37\\lib\\traceback.py\", line 363, in extract\n",
      "    f.line\n",
      "  File \"c:\\users\\56236\\appdata\\local\\programs\\python\\python37\\lib\\traceback.py\", line 285, in line\n",
      "    self._line = linecache.getline(self.filename, self.lineno).strip()\n",
      "  File \"c:\\users\\56236\\appdata\\local\\programs\\python\\python37\\lib\\linecache.py\", line 16, in getline\n",
      "    lines = getlines(filename, module_globals)\n",
      "  File \"c:\\users\\56236\\appdata\\local\\programs\\python\\python37\\lib\\linecache.py\", line 47, in getlines\n",
      "    return updatecache(filename, module_globals)\n",
      "  File \"c:\\users\\56236\\appdata\\local\\programs\\python\\python37\\lib\\linecache.py\", line 136, in updatecache\n",
      "    with tokenize.open(fullname) as fp:\n",
      "  File \"c:\\users\\56236\\appdata\\local\\programs\\python\\python37\\lib\\tokenize.py\", line 447, in open\n",
      "    buffer = _builtin_open(filename, 'rb')\n",
      "KeyboardInterrupt\n",
      "\n",
      "During handling of the above exception, another exception occurred:\n",
      "\n",
      "Traceback (most recent call last):\n",
      "  File \"c:\\users\\56236\\appdata\\local\\programs\\python\\python37\\lib\\site-packages\\IPython\\core\\interactiveshell.py\", line 2044, in showtraceback\n",
      "    stb = value._render_traceback_()\n",
      "AttributeError: 'KeyboardInterrupt' object has no attribute '_render_traceback_'\n",
      "\n",
      "During handling of the above exception, another exception occurred:\n",
      "\n",
      "Traceback (most recent call last):\n",
      "  File \"c:\\users\\56236\\appdata\\local\\programs\\python\\python37\\lib\\site-packages\\IPython\\core\\ultratb.py\", line 1148, in get_records\n",
      "    return _fixed_getinnerframes(etb, number_of_lines_of_context, tb_offset)\n",
      "  File \"c:\\users\\56236\\appdata\\local\\programs\\python\\python37\\lib\\site-packages\\IPython\\core\\ultratb.py\", line 316, in wrapped\n",
      "    return f(*args, **kwargs)\n",
      "  File \"c:\\users\\56236\\appdata\\local\\programs\\python\\python37\\lib\\site-packages\\IPython\\core\\ultratb.py\", line 350, in _fixed_getinnerframes\n",
      "    records = fix_frame_records_filenames(inspect.getinnerframes(etb, context))\n",
      "  File \"c:\\users\\56236\\appdata\\local\\programs\\python\\python37\\lib\\inspect.py\", line 1502, in getinnerframes\n",
      "    frameinfo = (tb.tb_frame,) + getframeinfo(tb, context)\n",
      "  File \"c:\\users\\56236\\appdata\\local\\programs\\python\\python37\\lib\\inspect.py\", line 1460, in getframeinfo\n",
      "    filename = getsourcefile(frame) or getfile(frame)\n",
      "  File \"c:\\users\\56236\\appdata\\local\\programs\\python\\python37\\lib\\inspect.py\", line 696, in getsourcefile\n",
      "    if getattr(getmodule(object, filename), '__loader__', None) is not None:\n",
      "  File \"c:\\users\\56236\\appdata\\local\\programs\\python\\python37\\lib\\inspect.py\", line 733, in getmodule\n",
      "    if ismodule(module) and hasattr(module, '__file__'):\n",
      "  File \"c:\\users\\56236\\appdata\\local\\programs\\python\\python37\\lib\\site-packages\\tensorflow\\__init__.py\", line 50, in __getattr__\n",
      "    module = self._load()\n",
      "  File \"c:\\users\\56236\\appdata\\local\\programs\\python\\python37\\lib\\site-packages\\tensorflow\\__init__.py\", line 44, in _load\n",
      "    module = _importlib.import_module(self.__name__)\n",
      "  File \"c:\\users\\56236\\appdata\\local\\programs\\python\\python37\\lib\\importlib\\__init__.py\", line 127, in import_module\n",
      "    return _bootstrap._gcd_import(name[level:], package, level)\n",
      "  File \"<frozen importlib._bootstrap>\", line 1006, in _gcd_import\n",
      "  File \"<frozen importlib._bootstrap>\", line 983, in _find_and_load\n",
      "  File \"<frozen importlib._bootstrap>\", line 953, in _find_and_load_unlocked\n",
      "  File \"<frozen importlib._bootstrap>\", line 219, in _call_with_frames_removed\n",
      "  File \"<frozen importlib._bootstrap>\", line 1006, in _gcd_import\n",
      "  File \"<frozen importlib._bootstrap>\", line 983, in _find_and_load\n",
      "  File \"<frozen importlib._bootstrap>\", line 967, in _find_and_load_unlocked\n",
      "  File \"<frozen importlib._bootstrap>\", line 677, in _load_unlocked\n",
      "  File \"<frozen importlib._bootstrap_external>\", line 728, in exec_module\n",
      "  File \"<frozen importlib._bootstrap>\", line 219, in _call_with_frames_removed\n",
      "  File \"c:\\users\\56236\\appdata\\local\\programs\\python\\python37\\lib\\site-packages\\tensorflow_core\\__init__.py\", line 42, in <module>\n",
      "    from . _api.v2 import audio\n",
      "  File \"c:\\users\\56236\\appdata\\local\\programs\\python\\python37\\lib\\site-packages\\tensorflow_core\\_api\\v2\\audio\\__init__.py\", line 10, in <module>\n",
      "    from tensorflow.python.ops.gen_audio_ops import decode_wav\n",
      "  File \"c:\\users\\56236\\appdata\\local\\programs\\python\\python37\\lib\\site-packages\\tensorflow_core\\python\\ops\\gen_audio_ops.py\", line 10, in <module>\n",
      "    from tensorflow.python.eager import context as _context\n",
      "  File \"c:\\users\\56236\\appdata\\local\\programs\\python\\python37\\lib\\site-packages\\tensorflow_core\\python\\eager\\context.py\", line 32, in <module>\n",
      "    from tensorflow.python import tf2\n",
      "  File \"c:\\users\\56236\\appdata\\local\\programs\\python\\python37\\lib\\site-packages\\tensorflow\\__init__.py\", line 50, in __getattr__\n",
      "    module = self._load()\n",
      "  File \"c:\\users\\56236\\appdata\\local\\programs\\python\\python37\\lib\\site-packages\\tensorflow\\__init__.py\", line 44, in _load\n",
      "    module = _importlib.import_module(self.__name__)\n",
      "  File \"c:\\users\\56236\\appdata\\local\\programs\\python\\python37\\lib\\importlib\\__init__.py\", line 127, in import_module\n",
      "    return _bootstrap._gcd_import(name[level:], package, level)\n",
      "  File \"c:\\users\\56236\\appdata\\local\\programs\\python\\python37\\lib\\site-packages\\tensorflow_core\\python\\__init__.py\", line 148, in <module>\n",
      "    from tensorflow.python.eager.context import executing_eagerly\n",
      "ImportError: cannot import name 'executing_eagerly' from 'tensorflow.python.eager.context' (c:\\users\\56236\\appdata\\local\\programs\\python\\python37\\lib\\site-packages\\tensorflow_core\\python\\eager\\context.py)\n"
     ]
    },
    {
     "ename": "KeyboardInterrupt",
     "evalue": "",
     "output_type": "error",
     "traceback": [
      "\u001b[1;31m---------------------------------------------------------------------------\u001b[0m"
     ]
    }
   ],
   "source": [
    "import tensorflow as tf\n",
    "from tensorflow import keras\n",
    "from tensorflow.keras import backend as K\n",
    "from tensorflow.keras import utils\n",
    "\n",
    "import numpy as np\n",
    "\n",
    "from sklearn.model_selection import train_test_split"
   ]
  },
  {
   "cell_type": "code",
   "execution_count": null,
   "metadata": {},
   "outputs": [],
   "source": [
    "num_classes = 10\n",
    "img_rows, img_cols = 28, 28"
   ]
  },
  {
   "cell_type": "code",
   "execution_count": null,
   "metadata": {},
   "outputs": [],
   "source": [
    "mnist = keras.datasets.mnist\n",
    "(x_train, y_train),(x_test, y_test) = mnist.load_data()"
   ]
  },
  {
   "cell_type": "code",
   "execution_count": null,
   "metadata": {},
   "outputs": [],
   "source": [
    "x_train = x_train.reshape(x_train.shape[0], img_rows, img_cols, 1)\n",
    "x_test = x_test.reshape(x_test.shape[0], img_rows, img_cols, 1)\n",
    "x_train = x_train.astype('float32')\n",
    "x_test = x_test.astype('float32')\n",
    "x_train /= 255\n",
    "x_test /= 255\n",
    "y_train = utils.to_categorical(y_train, num_classes)\n",
    "y_test = utils.to_categorical(y_test, num_classes)"
   ]
  },
  {
   "cell_type": "code",
   "execution_count": null,
   "metadata": {},
   "outputs": [],
   "source": [
    "def squash(x, axis=-1):\n",
    "    squared_norm = keras.backend.sum(keras.backend.square(x), axis, keepdims=True) + keras.backend.epsilon()\n",
    "    scale = keras.backend.sqrt(squared_norm)/(1+squared_norm)\n",
    "    return scale*x"
   ]
  },
  {
   "cell_type": "code",
   "execution_count": null,
   "metadata": {},
   "outputs": [],
   "source": [
    "class digitCaps(keras.layers.Layer):\n",
    "    def __init__(self,in_type=1152, in_shape=8, out_type=10, out_shape=16, routings=3, activation='squash',**kwargs):\n",
    "        self.in_type = in_type\n",
    "        self.in_shape = in_shape       \n",
    "        self.out_type = out_type\n",
    "        self.out_shape = out_shape\n",
    "        self.routings = routings\n",
    "        if activation == 'squash':\n",
    "            self.activation = squash\n",
    "        else:\n",
    "            self.activation = keras.layers.Activation(activation)\n",
    "        super(digitCaps,self).__init__(**kwargs)\n",
    "        \n",
    "    def build(self,input_shape):\n",
    "        self.kernel1 = self.add_weight(shape=(self.in_type,self.in_shape,self.out_shape),initializer=\"uniform\", trainable=True)\n",
    "        self.kernel2 = self.add_weight(shape=(self.in_type,self.in_shape,self.out_shape),initializer=\"uniform\", trainable=True)\n",
    "        self.kernel3 = self.add_weight(shape=(self.in_type,self.in_shape,self.out_shape),initializer=\"uniform\", trainable=True)\n",
    "        self.kernel4 = self.add_weight(shape=(self.in_type,self.in_shape,self.out_shape),initializer=\"uniform\", trainable=True)\n",
    "        self.kernel5 = self.add_weight(shape=(self.in_type,self.in_shape,self.out_shape),initializer=\"uniform\", trainable=True)\n",
    "        self.kernel6 = self.add_weight(shape=(self.in_type,self.in_shape,self.out_shape),initializer=\"uniform\", trainable=True)\n",
    "        self.kernel7 = self.add_weight(shape=(self.in_type,self.in_shape,self.out_shape),initializer=\"uniform\", trainable=True)\n",
    "        self.kernel8 = self.add_weight(shape=(self.in_type,self.in_shape,self.out_shape),initializer=\"uniform\", trainable=True)\n",
    "        self.kernel9 = self.add_weight(shape=(self.in_type,self.in_shape,self.out_shape),initializer=\"uniform\", trainable=True)\n",
    "        self.kernel10 = self.add_weight(shape=(self.in_type,self.in_shape,self.out_shape),initializer=\"uniform\", trainable=True)\n",
    "        super(digitCaps,self).build(input_shape)\n",
    "\n",
    "    def call(self,inputs):\n",
    "        type1 = tf.squeeze(tf.matmul(inputs, self.kernel1),axis=2)\n",
    "        type2 = tf.squeeze(tf.matmul(inputs, self.kernel2),axis=2)\n",
    "        type3 = tf.squeeze(tf.matmul(inputs, self.kernel3),axis=2)\n",
    "        type4 = tf.squeeze(tf.matmul(inputs, self.kernel4),axis=2)\n",
    "        type5 = tf.squeeze(tf.matmul(inputs, self.kernel5),axis=2)\n",
    "        type6 = tf.squeeze(tf.matmul(inputs, self.kernel6),axis=2)\n",
    "        type7 = tf.squeeze(tf.matmul(inputs, self.kernel7),axis=2)\n",
    "        type8 = tf.squeeze(tf.matmul(inputs, self.kernel8),axis=2)\n",
    "        type9 = tf.squeeze(tf.matmul(inputs, self.kernel9),axis=2)\n",
    "        type10 = tf.squeeze(tf.matmul(inputs, self.kernel10),axis=2)\n",
    "        result = tf.stack([type1,type2,type3,type4,type5,type6,type7,type8,type9,type10],1)\n",
    "        B = tf.zeros_like(tf.transpose(tf.transpose(result)[1]))\n",
    "        for i in range(self.routings):\n",
    "            C = tf.nn.softmax(B,1)\n",
    "            O = tf.einsum('ijk,ijkl->ijl', C, result)\n",
    "            V = squash(O,-1)\n",
    "            B = B + tf.einsum('ijk,ijlk->ijl', V, result)\n",
    "        return V"
   ]
  },
  {
   "cell_type": "code",
   "execution_count": null,
   "metadata": {},
   "outputs": [],
   "source": [
    "output = keras.layers.Lambda(lambda x: keras.backend.sqrt(keras.backend.sum(keras.backend.square(x), 2)), output_shape=(10,))"
   ]
  },
  {
   "cell_type": "code",
   "execution_count": null,
   "metadata": {},
   "outputs": [],
   "source": [
    "inputs = tf.keras.layers.Input(shape=(28,28,1))\n",
    "L1 = keras.layers.Conv2D(filters=256, kernel_size=(9,9),strides=(1,1), activation=\"relu\")(inputs)\n",
    "L2 = keras.layers.Conv2D(filters=256, kernel_size=(9,9),strides=(2,2), activation=\"relu\")(L1)\n",
    "L3 = keras.layers.Flatten()(L2)\n",
    "L4 = keras.layers.Dense(256)(L3)\n",
    "L5 = keras.layers.Dense(128)(L4)\n",
    "L6 = keras.layers.Dense(10)(L5)\n",
    "cnn =  tf.keras.models.Model(inputs=inputs, outputs = L6)\n",
    "cnn.summary()\n",
    "cnn.compile(optimizer='adam',\n",
    "            loss=lambda y_true,y_pred:K.mean(K.sum(y_true * K.square(K.maximum(0., 0.9 - y_pred)) + 0.5 * (1 - y_true) * K.square(K.maximum(0., y_pred - 0.1)),1)),\n",
    "            metrics=['accuracy'])"
   ]
  },
  {
   "cell_type": "code",
   "execution_count": null,
   "metadata": {},
   "outputs": [],
   "source": [
    "inputs = tf.keras.layers.Input(shape=(28,28,1))\n",
    "C1 = keras.layers.Conv2D(filters=256, kernel_size=(9,9), strides=(1,1), activation=\"relu\")(inputs)\n",
    "C2 = keras.layers.Conv2D(filters=256, kernel_size=(9,9), strides=(2,2), activation=\"relu\")(C1)\n",
    "R1 = keras.layers.Reshape(target_shape=(1152,1,8))(C2)\n",
    "P1 = digitCaps(in_type=1152, in_shape=8, out_type=10, out_shape=16)(R1)\n",
    "out_caps = keras.layers.Lambda(lambda x: keras.backend.sqrt(keras.backend.sum(keras.backend.square(x), 2)), output_shape=(10,))(P1)\n",
    "capsule =  tf.keras.models.Model(inputs=inputs, outputs = out_caps)\n",
    "capsule.summary()\n",
    "capsule.compile(optimizer='adam',\n",
    "            loss=[lambda y_true,y_pred:K.mean(K.sum(y_true * K.square(K.maximum(0., 0.9 - y_pred)) + 0.5 * (1 - y_true) * K.square(K.maximum(0., y_pred - 0.1)),1))],\n",
    "            metrics=['accuracy'])"
   ]
  },
  {
   "cell_type": "code",
   "execution_count": null,
   "metadata": {},
   "outputs": [],
   "source": [
    "x_val = x_train[:12000]\n",
    "y_val = y_train[:12000]\n",
    "x_train = x_train[12000:]\n",
    "y_train = y_train[12000:]"
   ]
  },
  {
   "cell_type": "code",
   "execution_count": null,
   "metadata": {},
   "outputs": [],
   "source": [
    "cnnhis = cnn.fit(x_train,y_train,epochs=20,batch_size=128,validation_data=[x_val, y_val])"
   ]
  },
  {
   "cell_type": "code",
   "execution_count": null,
   "metadata": {},
   "outputs": [],
   "source": [
    "capsulehis = capsule.fit(x_train,y_train,epochs=20,batch_size=128,validation_data=[x_val, y_val])"
   ]
  },
  {
   "cell_type": "code",
   "execution_count": null,
   "metadata": {},
   "outputs": [],
   "source": [
    "import matplotlib.pyplot as plt\n",
    "loss = cnnhis.history['loss']\n",
    "val_loss = cnnhis.history['val_loss']\n",
    "epochs = range(1, len(loss) + 1)\n",
    "plt.plot(epochs, loss, 'bo', label='Training loss')\n",
    "plt.plot(epochs, val_loss, 'b', label='Validation loss')\n",
    "plt.title('Training and validation loss')\n",
    "plt.xlabel('Epochs')\n",
    "plt.ylabel('Loss')\n",
    "plt.legend()\n",
    "plt.savefig(\"result.png\")"
   ]
  },
  {
   "cell_type": "code",
   "execution_count": null,
   "metadata": {},
   "outputs": [],
   "source": [
    "acc = cnnhis.history['accuracy']\n",
    "val_acc = cnnhis.history['val_accuracy']\n",
    "plt.plot(epochs, acc, 'bo', label='Training acc')\n",
    "plt.plot(epochs, val_acc, 'b', label='Validation acc')\n",
    "plt.title('Training and validation accuracy')\n",
    "plt.xlabel('Epochs')\n",
    "plt.ylabel('Accuracy')\n",
    "plt.legend()\n",
    "plt.savefig(\"result1.png\")"
   ]
  },
  {
   "cell_type": "code",
   "execution_count": null,
   "metadata": {},
   "outputs": [],
   "source": [
    "import matplotlib.pyplot as plt\n",
    "loss = capsulehis.history['loss']\n",
    "val_loss = capsulehis.history['val_loss']\n",
    "epochs = range(1, len(loss) + 1)\n",
    "plt.plot(epochs, loss, 'bo', label='Training loss')\n",
    "plt.plot(epochs, val_loss, 'b', label='Validation loss')\n",
    "plt.title('Training and validation loss')\n",
    "plt.xlabel('Epochs')\n",
    "plt.ylabel('Loss')\n",
    "plt.legend()\n",
    "plt.savefig(\"result2.png\")"
   ]
  },
  {
   "cell_type": "code",
   "execution_count": null,
   "metadata": {
    "scrolled": true
   },
   "outputs": [],
   "source": [
    "acc = capsulehis.history['accuracy']\n",
    "val_acc = capsulehis.history['val_accuracy']\n",
    "plt.plot(epochs, acc, 'bo', label='Training acc')\n",
    "plt.plot(epochs, val_acc, 'b', label='Validation acc')\n",
    "plt.title('Training and validation accuracy')\n",
    "plt.xlabel('Epochs')\n",
    "plt.ylabel('Accuracy')\n",
    "plt.legend()\n",
    "plt.savefig(\"result3.png\")"
   ]
  },
  {
   "cell_type": "code",
   "execution_count": null,
   "metadata": {},
   "outputs": [],
   "source": [
    "num_classes = 10\n",
    "img_rows, img_cols = 28, 28\n",
    "mnist = keras.datasets.mnist\n",
    "(x_train, y_train),(x_test, y_test) = mnist.load_data()\n",
    "x_train = x_train.reshape(x_train.shape[0], img_rows, img_cols, 1)\n",
    "x_test = x_test.reshape(x_test.shape[0], img_rows, img_cols, 1)\n",
    "x_train = x_train.astype('float32')\n",
    "x_test = x_test.astype('float32')\n",
    "x_train /= 255\n",
    "x_test /= 255\n",
    "y_train = utils.to_categorical(y_train, num_classes)\n",
    "y_test = utils.to_categorical(y_test, num_classes)"
   ]
  },
  {
   "cell_type": "code",
   "execution_count": null,
   "metadata": {},
   "outputs": [],
   "source": [
    "cnnhis = cnn.fit(x_train,y_train,epochs=3,batch_size=128)"
   ]
  },
  {
   "cell_type": "code",
   "execution_count": null,
   "metadata": {
    "scrolled": true
   },
   "outputs": [],
   "source": [
    "cnn.evaluate(x_test,y_test)"
   ]
  },
  {
   "cell_type": "code",
   "execution_count": null,
   "metadata": {
    "scrolled": true
   },
   "outputs": [],
   "source": [
    "capsulehis = capsule.fit(x_train,y_train,epochs=1,batch_size=128)"
   ]
  },
  {
   "cell_type": "code",
   "execution_count": null,
   "metadata": {},
   "outputs": [],
   "source": [
    "capsule.evaluate(x_test,y_test)"
   ]
  }
 ],
 "metadata": {
  "kernelspec": {
   "display_name": "Python 3",
   "language": "python",
   "name": "python3"
  },
  "language_info": {
   "codemirror_mode": {
    "name": "ipython",
    "version": 3
   },
   "file_extension": ".py",
   "mimetype": "text/x-python",
   "name": "python",
   "nbconvert_exporter": "python",
   "pygments_lexer": "ipython3",
   "version": "3.7.7"
  }
 },
 "nbformat": 4,
 "nbformat_minor": 4
}
